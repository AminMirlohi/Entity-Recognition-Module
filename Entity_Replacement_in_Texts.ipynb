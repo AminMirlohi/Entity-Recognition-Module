{
 "cells": [
  {
   "cell_type": "code",
   "execution_count": 3,
   "id": "697f9fcf-495b-46e7-96b1-cf5364374fa8",
   "metadata": {},
   "outputs": [
    {
     "ename": "ModuleNotFoundError",
     "evalue": "No module named 'spacy'",
     "output_type": "error",
     "traceback": [
      "\u001b[0;31m---------------------------------------------------------------------------\u001b[0m",
      "\u001b[0;31mModuleNotFoundError\u001b[0m                       Traceback (most recent call last)",
      "Cell \u001b[0;32mIn[3], line 2\u001b[0m\n\u001b[1;32m      1\u001b[0m \u001b[38;5;66;03m# Import necessary libraries\u001b[39;00m\n\u001b[0;32m----> 2\u001b[0m \u001b[38;5;28;01mimport\u001b[39;00m \u001b[38;5;21;01mspacy\u001b[39;00m\u001b[38;5;241m,\u001b[39m \u001b[38;5;21;01mtensorflow\u001b[39;00m \u001b[38;5;28;01mas\u001b[39;00m \u001b[38;5;21;01mtf\u001b[39;00m\u001b[38;5;241m,\u001b[39m \u001b[38;5;21;01mtensorflow_text\u001b[39;00m \u001b[38;5;28;01mas\u001b[39;00m \u001b[38;5;21;01mtext\u001b[39;00m\u001b[38;5;241m,\u001b[39m \u001b[38;5;21;01mre\u001b[39;00m\n\u001b[1;32m      3\u001b[0m \u001b[38;5;28;01mfrom\u001b[39;00m \u001b[38;5;21;01msklearn\u001b[39;00m\u001b[38;5;21;01m.\u001b[39;00m\u001b[38;5;21;01mmetrics\u001b[39;00m\u001b[38;5;21;01m.\u001b[39;00m\u001b[38;5;21;01mpairwise\u001b[39;00m \u001b[38;5;28;01mimport\u001b[39;00m cosine_similarity\n\u001b[1;32m      4\u001b[0m \u001b[38;5;28;01mfrom\u001b[39;00m \u001b[38;5;21;01mscipy\u001b[39;00m \u001b[38;5;28;01mimport\u001b[39;00m spatial\n",
      "\u001b[0;31mModuleNotFoundError\u001b[0m: No module named 'spacy'"
     ]
    }
   ],
   "source": [
    "# Import necessary libraries\n",
    "import spacy, tensorflow as tf, tensorflow_text as text, re\n",
    "from sklearn.metrics.pairwise import cosine_similarity\n",
    "from scipy import spatial\n",
    "\n",
    "# Load the small English model for Spacy and the Universal Sentence Encoder model for Tensorflow\n",
    "nlp = spacy.load(\"en_core_web_sm\")\n",
    "similarity_model = tf.saved_model.load(\"https://tfhub.dev/google/universal-sentence-encoder/4\")\n",
    "\n",
    "# Regular expression pattern for capturing defined terms and cross references within text\n",
    "defined_term_pattern = r\"“(.*?)”\"\n",
    "cross_ref_pattern = r\"Section\\s[0-9\\.]+\"\n",
    "\n",
    "# Function to replace entities within text. Can replace entities in either original text or replacement text.\n",
    "def replace_entities(original_text, replacement_text, user_replace=False):\n",
    "    # Extract entities from the original and replacement texts\n",
    "    original_entities = extract_entities(original_text)\n",
    "    replacement_entities = extract_entities(replacement_text)\n",
    "    \n",
    "    # Match entities between the original and replacement texts\n",
    "    matched_entities = match_entities(original_entities, replacement_entities)\n",
    "    \n",
    "    # User option to replace entities in the original text or the replacement text\n",
    "    if user_replace:\n",
    "        for x,y in matched_entities:\n",
    "            original_text = original_text.replace(y,x) \n",
    "    else:\n",
    "        for x,y in matched_entities:\n",
    "            replacement_text = replacement_text.replace(x,y)\n",
    "        \n",
    "    return original_text, replacement_text\n",
    "\n",
    "# Function to extract legal entities within text, including named entities, defined terms and cross references\n",
    "def extract_entities(text):\n",
    "    legal_entities = {}\n",
    "    named_entities = [(str(ent), ent.label_) for ent in nlp(text).ents]\n",
    "    legal_entities[\"named_entities\"] = named_entities\n",
    "    \n",
    "    defined_terms = re.findall(defined_term_pattern, text)\n",
    "    legal_entities[\"defined_terms\"] = defined_terms\n",
    "\n",
    "    cross_refs = re.findall(cross_ref_pattern, text)\n",
    "    legal_entities[\"cross_refs\"] = cross_refs\n",
    "    \n",
    "    return legal_entities\n",
    "\n",
    "# Function to match entities between two sets of extracted entities\n",
    "def match_entities(original_entities, replacement_entities):\n",
    "    pairings = []\n",
    "    for type in [\"named_entities\", \"defined_terms\", \"cross_refs\"]:\n",
    "        original_type_ents = original_entities[type]\n",
    "        replacement_type_ents = replacement_entities[type]\n",
    "        \n",
    "        # Create embeddings for the entities in original and replacement texts and compute their similarity\n",
    "        embeddings1 = similarity_model(tf.constant(original_type_ents))\n",
    "        embeddings2 = similarity_model(tf.constant(replacement_type_ents))\n",
    "        \n",
    "        similarity_scores = cosine_similarity(embeddings1, embeddings2)\n",
    "        paired_entities_1_2 = [(original_type_ents[i], replacement_type_ents[j]) for i,j in enumerate(np.argmax(similarity_scores, axis=1))]\n",
    "\n",
    "        pairings.extend(paired_entities_1_2)\n",
    "    return pairings"
   ]
  },
  {
   "cell_type": "code",
   "execution_count": null,
   "id": "c053c2ea-0fc6-4937-a7e8-d2d7f1279bf4",
   "metadata": {},
   "outputs": [],
   "source": []
  }
 ],
 "metadata": {
  "kernelspec": {
   "display_name": "Python 3 (ipykernel)",
   "language": "python",
   "name": "python3"
  },
  "language_info": {
   "codemirror_mode": {
    "name": "ipython",
    "version": 3
   },
   "file_extension": ".py",
   "mimetype": "text/x-python",
   "name": "python",
   "nbconvert_exporter": "python",
   "pygments_lexer": "ipython3",
   "version": "3.10.6"
  }
 },
 "nbformat": 4,
 "nbformat_minor": 5
}
